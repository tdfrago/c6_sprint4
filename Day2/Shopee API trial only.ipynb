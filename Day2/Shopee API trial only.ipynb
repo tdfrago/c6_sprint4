{
 "cells": [
  {
   "cell_type": "code",
   "execution_count": 80,
   "metadata": {},
   "outputs": [],
   "source": [
    "import requests\n",
    "Shopee_url = 'https://shopee.ph/'\n",
    "keyword_search = 'air fryer'\n",
    "headers = {\n",
    "'User-Agent': 'Chrome',\n",
    " 'Referer': '{}search?keyword={}'.format(Shopee_url, keyword_search)\n",
    "}\n",
    "url = 'https://shopee.ph/api/v2/search_items/?by=relevancy&keyword={}&limit=100&newest=0&order=desc&page_type=search'.format(keyword_search)\n",
    "# Shopee API request\n",
    "r = requests.get(url, headers = headers).json()\n",
    "# Shopee scraping script\n",
    "titles_list = []\n",
    "prices_list = []\n",
    "for item in r['items']:\n",
    "    titles_list.append(item['name'])\n",
    "    prices_list.append(item['price'])"
   ]
  },
  {
   "cell_type": "code",
   "execution_count": 81,
   "metadata": {},
   "outputs": [
    {
     "name": "stdout",
     "output_type": "stream",
     "text": [
      "{'itemid': 3444669378, 'price_max_before_discount': 373800000, 'item_status': 'normal', 'can_use_wholesale': False, 'show_free_shipping': False, 'display_name': None, 'upcoming_flash_sale': None, 'add_on_deal_info': None, 'is_non_cc_installment_payment_eligible': False, 'ctime': 1596298945, 'name': 'Kyowa KW-3810 Air Fryer (Red)', 'show_shopee_verified_label': True, 'campaignid': None, 'size_chart': None, 'service_by_shopee_flag': None, 'historical_sold': 28, 'campaign_stock': None, 'reference_item_id': '', 'recommendation_info': None, 'bundle_deal_info': None, 'has_lowest_price_guarantee': False, 'shipping_icon_type': None, 'images': ['124619d4d8aba37f8e7222569a09e1f0'], 'price_before_discount': 373800000, 'catid': 15509, 'is_official_shop': False, 'coin_earn_label': None, 'sold': 14, 'item_rating': {'rating_star': 4.928571, 'rating_count': [14, 0, 0, 0, 1, 13], 'rcount_with_image': 2, 'rcount_with_context': 5}, 'show_official_shop_label_in_title': False, 'discount': '28%', 'label_ids': [1002657, 1003287, 1003289], 'has_group_buy_stock': None, 'algo_image': None, 'tracking_info': {'multi_search_tracking': [0], 'viral_spu_tracking': None, 'ruleid': [0], 'groupid': 0, 'business_tracking': None}, 'badge_icon_type': 0, 'liked': None, 'cmt_count': 14, 'image': '124619d4d8aba37f8e7222569a09e1f0', 'recommendation_algorithm': None, 'is_cc_installment_payment_eligible': False, 'shopid': 279280023, 'video_info_list': [], 'ads_keyword': None, 'json_data': '', 'view_count': 2627, 'voucher_info': None, 'liked_count': 75, 'show_official_shop_label': False, 'price_min_before_discount': 373800000, 'show_discount': 28, 'preview_info': None, 'flag': 0, 'exclusive_price_info': None, 'distance': None, 'wholesale_tier_list': [], 'group_buy_info': None, 'shopee_verified': True, 'hidden_price_display': None, 'transparent_background_image': '', 'welcome_package_info': None, 'match_type': None, 'is_adult': False, 'currency': 'PHP', 'raw_discount': 28, 'is_preferred_plus_seller': False, 'is_category_failed': False, 'price_min': 269900000, 'can_use_bundle_deal': False, 'cb_option': 0, 'brand': 'Kyowa', 'deduction_info': None, 'stock': 33, 'status': 1, 'price_max': 269900000, 'is_group_buy_item': None, 'flash_sale': None, 'price': 269900000, 'shop_location': 'San Juan City, Metro Manila', 'tier_variations': [{'images': [], 'properties': [], 'type': 0, 'name': '', 'options': ['']}], 'can_use_cod': False, 'collection_id': None, 'welcome_package_type': 0, 'show_official_shop_label_in_normal_position': None, 'adsid': None, 'item_type': 0}\n"
     ]
    }
   ],
   "source": [
    "print(item)"
   ]
  },
  {
   "cell_type": "code",
   "execution_count": 82,
   "metadata": {
    "scrolled": true
   },
   "outputs": [
    {
     "data": {
      "text/plain": [
       "100"
      ]
     },
     "execution_count": 82,
     "metadata": {},
     "output_type": "execute_result"
    }
   ],
   "source": [
    "len(titles_list)"
   ]
  },
  {
   "cell_type": "code",
   "execution_count": 83,
   "metadata": {},
   "outputs": [
    {
     "data": {
      "text/plain": [
       "[119900000,\n",
       " 169900000,\n",
       " 350000000,\n",
       " 450000000,\n",
       " 369900000,\n",
       " 188900000,\n",
       " 382000000,\n",
       " 350000000,\n",
       " 199900000,\n",
       " 169900000,\n",
       " 199900000,\n",
       " 369900000,\n",
       " 1249900000,\n",
       " 110000000,\n",
       " 229900000,\n",
       " 269900000,\n",
       " 229900000,\n",
       " 399900000,\n",
       " 255500000,\n",
       " 266900000,\n",
       " 285000000,\n",
       " 209000000,\n",
       " 399900000,\n",
       " 599000000,\n",
       " 420000000,\n",
       " 280000000,\n",
       " 618900000,\n",
       " 371700000,\n",
       " 639900000,\n",
       " 169000000,\n",
       " 288900000,\n",
       " 380000000,\n",
       " 379900000,\n",
       " 639900000,\n",
       " 419300000,\n",
       " 450000000,\n",
       " 650000000,\n",
       " 168900000,\n",
       " 610000000,\n",
       " 239900000,\n",
       " 379900000,\n",
       " 169000000,\n",
       " 629900000,\n",
       " 610000000,\n",
       " 899500000,\n",
       " 139900000,\n",
       " 669900000,\n",
       " 388500000,\n",
       " 448500000,\n",
       " 419300000,\n",
       " 399900000,\n",
       " 328900000,\n",
       " 249900000,\n",
       " 135000000,\n",
       " 249000000,\n",
       " 359900000,\n",
       " 279500000,\n",
       " 178800000,\n",
       " 420000000,\n",
       " 480000000,\n",
       " 299900000,\n",
       " 219000000,\n",
       " 559800000,\n",
       " 279000000,\n",
       " 398800000,\n",
       " 169900000,\n",
       " 375000000,\n",
       " 415000000,\n",
       " 399900000,\n",
       " 169900000,\n",
       " 380000000,\n",
       " 259900000,\n",
       " 299900000,\n",
       " 129900000,\n",
       " 380000000,\n",
       " 709300000,\n",
       " 699900000,\n",
       " 149900000,\n",
       " 499900000,\n",
       " 190000000,\n",
       " 239400000,\n",
       " 209000000,\n",
       " 229900000,\n",
       " 246700000,\n",
       " 399800000,\n",
       " 164900000,\n",
       " 269500000,\n",
       " 279500000,\n",
       " 349900000,\n",
       " 699900000,\n",
       " 377500000,\n",
       " 1299500000,\n",
       " 380000000,\n",
       " 169000000,\n",
       " 610000000,\n",
       " 307900000,\n",
       " 225600000,\n",
       " 176900000,\n",
       " 559100000,\n",
       " 269900000]"
      ]
     },
     "execution_count": 83,
     "metadata": {},
     "output_type": "execute_result"
    }
   ],
   "source": [
    "prices_list"
   ]
  },
  {
   "cell_type": "code",
   "execution_count": 84,
   "metadata": {
    "scrolled": true
   },
   "outputs": [
    {
     "data": {
      "text/plain": [
       "36835400000"
      ]
     },
     "execution_count": 84,
     "metadata": {},
     "output_type": "execute_result"
    }
   ],
   "source": [
    "sum(prices_list)"
   ]
  },
  {
   "cell_type": "code",
   "execution_count": null,
   "metadata": {},
   "outputs": [],
   "source": []
  }
 ],
 "metadata": {
  "kernelspec": {
   "display_name": "Python 3",
   "language": "python",
   "name": "python3"
  },
  "language_info": {
   "codemirror_mode": {
    "name": "ipython",
    "version": 3
   },
   "file_extension": ".py",
   "mimetype": "text/x-python",
   "name": "python",
   "nbconvert_exporter": "python",
   "pygments_lexer": "ipython3",
   "version": "3.8.5"
  }
 },
 "nbformat": 4,
 "nbformat_minor": 4
}
