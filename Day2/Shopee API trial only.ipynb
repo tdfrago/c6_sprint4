{
 "cells": [
  {
   "cell_type": "code",
   "execution_count": 10,
   "metadata": {},
   "outputs": [],
   "source": [
    "import requests\n",
    "Shopee_url = 'https://shopee.ph/'\n",
    "keyword_search = 'air fryer'\n",
    "headers = {\n",
    "'User-Agent': 'Chrome',\n",
    " 'Referer': '{}search?keyword={}'.format(Shopee_url, keyword_search)\n",
    "}\n",
    "url = 'https://shopee.ph/api/v2/search_items/?by=relevancy&keyword={}&limit=100&newest=0&order=desc&page_type=search'.format(keyword_search)\n",
    "# Shopee API request\n",
    "r = requests.get(url, headers = headers).json()\n",
    "# Shopee scraping script\n",
    "titles_list = []\n",
    "prices_list = []\n",
    "for item in r['items']:\n",
    "    titles_list.append(item['name'])\n",
    "    prices_list.append(item['price']/100000)"
   ]
  },
  {
   "cell_type": "code",
   "execution_count": 11,
   "metadata": {
    "scrolled": true
   },
   "outputs": [
    {
     "name": "stdout",
     "output_type": "stream",
     "text": [
      "{'itemid': 6859117234, 'price_max_before_discount': 359900000, 'item_status': 'normal', 'can_use_wholesale': False, 'show_free_shipping': False, 'display_name': None, 'upcoming_flash_sale': None, 'add_on_deal_info': None, 'is_non_cc_installment_payment_eligible': False, 'ctime': 1603642458, 'name': '5.5L large-capacity oil-free electric fryer LCD touch screen digital air fryer', 'show_shopee_verified_label': False, 'campaignid': None, 'size_chart': None, 'service_by_shopee_flag': None, 'historical_sold': 16, 'campaign_stock': None, 'reference_item_id': '', 'recommendation_info': None, 'bundle_deal_info': {'bundle_deal_id': 4783195, 'bundle_deal_label': 'Any 2 enjoy ₱50.00 off'}, 'has_lowest_price_guarantee': False, 'shipping_icon_type': None, 'images': ['9e3469a2bf9de4391be3cdca9f20cf08', '1340e87717deab3dfaa17ce8698107ad', '5100a8c31ddf84d9a2b7c7eb5689fd5d', 'f27b94273b6de5f06790a02d8f7e9331', 'ea772fa49ad9563136aa28c5ed9c81a5', 'a20d571aeac9f918479e5bfc45e77d2d', 'd61f7ccae3843d147f1c458ea8e81a43'], 'price_before_discount': 359900000, 'catid': 15509, 'is_official_shop': False, 'coin_earn_label': None, 'sold': 7, 'item_rating': {'rating_star': 5.0, 'rating_count': [9, 0, 0, 0, 0, 9], 'rcount_with_image': 5, 'rcount_with_context': 5}, 'show_official_shop_label_in_title': False, 'discount': '11%', 'label_ids': [1002470, 1002562, 1002635, 1002657, 1002752, 1002755, 1003048, 1003220, 1000032, 1003326], 'has_group_buy_stock': None, 'algo_image': None, 'tracking_info': {'multi_search_tracking': [0], 'viral_spu_tracking': None, 'ruleid': [0], 'groupid': 0, 'business_tracking': None}, 'badge_icon_type': 0, 'liked': None, 'cmt_count': 9, 'image': '9e3469a2bf9de4391be3cdca9f20cf08', 'recommendation_algorithm': None, 'is_cc_installment_payment_eligible': False, 'shopid': 313085150, 'video_info_list': [], 'ads_keyword': None, 'json_data': '', 'view_count': 941, 'voucher_info': {'promotion_id': 70599904, 'voucher_code': 'CRAFP100', 'label': '₱108 off'}, 'liked_count': 60, 'show_official_shop_label': False, 'price_min_before_discount': 359900000, 'show_discount': 11, 'preview_info': None, 'flag': 0, 'exclusive_price_info': None, 'distance': None, 'wholesale_tier_list': [], 'group_buy_info': None, 'shopee_verified': False, 'hidden_price_display': None, 'transparent_background_image': '', 'welcome_package_info': None, 'match_type': None, 'is_adult': False, 'currency': 'PHP', 'raw_discount': 11, 'is_preferred_plus_seller': False, 'is_category_failed': False, 'price_min': 318800000, 'can_use_bundle_deal': True, 'cb_option': 0, 'brand': None, 'deduction_info': None, 'stock': 2, 'status': 1, 'price_max': 318800000, 'is_group_buy_item': None, 'flash_sale': None, 'price': 318800000, 'shop_location': 'Malabon City, Metro Manila', 'tier_variations': [{'images': [], 'properties': [], 'type': 0, 'name': '', 'options': ['']}], 'can_use_cod': False, 'collection_id': None, 'welcome_package_type': 0, 'show_official_shop_label_in_normal_position': None, 'adsid': None, 'item_type': 0}\n"
     ]
    }
   ],
   "source": [
    "print(item)"
   ]
  },
  {
   "cell_type": "code",
   "execution_count": 12,
   "metadata": {
    "scrolled": true
   },
   "outputs": [
    {
     "data": {
      "text/plain": [
       "100"
      ]
     },
     "execution_count": 12,
     "metadata": {},
     "output_type": "execute_result"
    }
   ],
   "source": [
    "len(titles_list)"
   ]
  },
  {
   "cell_type": "code",
   "execution_count": 13,
   "metadata": {},
   "outputs": [
    {
     "data": {
      "text/plain": [
       "[1188.0,\n",
       " 1699.0,\n",
       " 4500.0,\n",
       " 3699.0,\n",
       " 1999.0,\n",
       " 1669.0,\n",
       " 1999.0,\n",
       " 3820.0,\n",
       " 11564.0,\n",
       " 1990.0,\n",
       " 3699.0,\n",
       " 2299.0,\n",
       " 2660.0,\n",
       " 1350.0,\n",
       " 2669.0,\n",
       " 6080.0,\n",
       " 3800.0,\n",
       " 1100.0,\n",
       " 2100.0,\n",
       " 3999.0,\n",
       " 6399.0,\n",
       " 2646.0,\n",
       " 3981.0,\n",
       " 2679.0,\n",
       " 3799.0,\n",
       " 1690.0,\n",
       " 5920.0,\n",
       " 3869.0,\n",
       " 6500.0,\n",
       " 2190.0,\n",
       " 6050.0,\n",
       " 6299.0,\n",
       " 6100.0,\n",
       " 1680.0,\n",
       " 3885.0,\n",
       " 3289.0,\n",
       " 8995.0,\n",
       " 1649.0,\n",
       " 6699.0,\n",
       " 2299.0,\n",
       " 3799.0,\n",
       " 2270.0,\n",
       " 4485.0,\n",
       " 4800.0,\n",
       " 3599.0,\n",
       " 1499.0,\n",
       " 3999.0,\n",
       " 3800.0,\n",
       " 4200.0,\n",
       " 2680.0,\n",
       " 2795.0,\n",
       " 2999.0,\n",
       " 5598.0,\n",
       " 1689.0,\n",
       " 2790.0,\n",
       " 3988.0,\n",
       " 2333.0,\n",
       " 1699.0,\n",
       " 2200.0,\n",
       " 3750.0,\n",
       " 2999.0,\n",
       " 1699.0,\n",
       " 4150.0,\n",
       " 3680.0,\n",
       " 6999.0,\n",
       " 1488.0,\n",
       " 4099.0,\n",
       " 2399.0,\n",
       " 2795.0,\n",
       " 1980.0,\n",
       " 2280.0,\n",
       " 3998.0,\n",
       " 2695.0,\n",
       " 2499.0,\n",
       " 12995.0,\n",
       " 3800.0,\n",
       " 3116.0,\n",
       " 1299.0,\n",
       " 6100.0,\n",
       " 3299.0,\n",
       " 5591.0,\n",
       " 1358.0,\n",
       " 2270.0,\n",
       " 2900.0,\n",
       " 2660.0,\n",
       " 2299.0,\n",
       " 11238.0,\n",
       " 3960.0,\n",
       " 2800.0,\n",
       " 1330.0,\n",
       " 2985.0,\n",
       " 1779.0,\n",
       " 5598.0,\n",
       " 1588.0,\n",
       " 3960.0,\n",
       " 3495.0,\n",
       " 3750.0,\n",
       " 2674.0,\n",
       " 3730.0,\n",
       " 3188.0]"
      ]
     },
     "execution_count": 13,
     "metadata": {},
     "output_type": "execute_result"
    }
   ],
   "source": [
    "prices_list"
   ]
  },
  {
   "cell_type": "code",
   "execution_count": 84,
   "metadata": {
    "scrolled": true
   },
   "outputs": [
    {
     "data": {
      "text/plain": [
       "36835400000"
      ]
     },
     "execution_count": 84,
     "metadata": {},
     "output_type": "execute_result"
    }
   ],
   "source": [
    "sum(prices_list)"
   ]
  },
  {
   "cell_type": "code",
   "execution_count": null,
   "metadata": {},
   "outputs": [],
   "source": []
  }
 ],
 "metadata": {
  "kernelspec": {
   "display_name": "Python 3",
   "language": "python",
   "name": "python3"
  },
  "language_info": {
   "codemirror_mode": {
    "name": "ipython",
    "version": 3
   },
   "file_extension": ".py",
   "mimetype": "text/x-python",
   "name": "python",
   "nbconvert_exporter": "python",
   "pygments_lexer": "ipython3",
   "version": "3.8.5"
  }
 },
 "nbformat": 4,
 "nbformat_minor": 4
}
