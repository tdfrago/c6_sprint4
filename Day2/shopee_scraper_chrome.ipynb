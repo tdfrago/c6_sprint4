{
 "cells": [
  {
   "cell_type": "code",
   "execution_count": 27,
   "metadata": {},
   "outputs": [
    {
     "name": "stdout",
     "output_type": "stream",
     "text": [
      "len:  39\n",
      "133543\n"
     ]
    }
   ],
   "source": [
    "import selenium.webdriver\n",
    "from selenium.webdriver.common.action_chains import ActionChains\n",
    "\n",
    "import time\n",
    "url = 'https://shopee.ph/search?keyword=air%20fryer'\n",
    "\n",
    "chrome_options.add_argument(\"--headless\");\n",
    "chrome_options.add_argument('disable-notifications')\n",
    "chrome_options.add_argument('--disable-infobars')\n",
    "chrome_options.add_argument('start-maximized')\n",
    "chrome_options.add_argument('user-data-dir=C:\\\\Users\\\\John\\\\AppData\\\\Local\\\\Google\\\\Chrome\\\\User Data\\\\Default')\n",
    "chrome_options.add_argument(\"disable-infobars\")\n",
    "chrome_options.add_experimental_option(\"prefs\", { \n",
    "    \"profile.default_content_setting_values.notifications\": 2\n",
    "    })\n",
    "\n",
    "browser = webdriver.Chrome(executable_path = r'C:\\Users\\John\\Desktop\\Folder\\Eskwelabs\\Cohort 6\\Sprint 4 - NLP\\chromedriver_win32\\chromedriver.exe',\n",
    "                          options = chrome_options)\n",
    "browser.get(base_url)\n",
    "time.sleep(1)\n",
    "\n",
    "for x in range(10):\n",
    "    browser.execute_script('window.scrollBy(0,300)')\n",
    "    time.sleep(0.1)\n",
    "    \n",
    "all_items = browser.find_elements_by_xpath('//span[@class=\"_1xk7ak\"]')\n",
    "print('len: ', len(all_items))\n",
    "\n",
    "total = 0\n",
    "for item in all_items:\n",
    "    price = item.text\n",
    "    total += int(price.replace(',', ''))\n",
    "    \n",
    "print(total)\n",
    "\n",
    "browser.close()"
   ]
  },
  {
   "cell_type": "code",
   "execution_count": 30,
   "metadata": {},
   "outputs": [
    {
     "data": {
      "text/plain": [
       "133543"
      ]
     },
     "execution_count": 30,
     "metadata": {},
     "output_type": "execute_result"
    }
   ],
   "source": [
    "total"
   ]
  },
  {
   "cell_type": "code",
   "execution_count": null,
   "metadata": {},
   "outputs": [],
   "source": []
  }
 ],
 "metadata": {
  "kernelspec": {
   "display_name": "Python 3",
   "language": "python",
   "name": "python3"
  },
  "language_info": {
   "codemirror_mode": {
    "name": "ipython",
    "version": 3
   },
   "file_extension": ".py",
   "mimetype": "text/x-python",
   "name": "python",
   "nbconvert_exporter": "python",
   "pygments_lexer": "ipython3",
   "version": "3.8.5"
  }
 },
 "nbformat": 4,
 "nbformat_minor": 4
}
