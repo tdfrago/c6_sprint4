{
 "cells": [
  {
   "cell_type": "code",
   "execution_count": 4,
   "metadata": {},
   "outputs": [],
   "source": [
    "import requests\n",
    "from bs4 import BeautifulSoup\n",
    "import json\n",
    "\n",
    "url = 'https://api.yelp.com/v3/businesses/search'\n",
    "api_key='9dSnTreOFelPrvjWEWR5ylDceiAGeijpvv8ZR2Di-AQLaZTD_q-1SOPWv5OVg527bSOCNLLfsnUmsdL_MYrJTYFVsSV614Gfk5zenIsTqUmh6zya1kzEjEmTDiE-YHYx'\n",
    "\n",
    "def get_business(location, term, api_key):\n",
    "    headers = {\"Authorization\": 'Bearer %s' % api_key}\n",
    "    \n",
    "    data = []\n",
    "    for offset in range(0, 1000, 50):\n",
    "        params = {\n",
    "            'limit': 50,\n",
    "            'location': location.replace(' ','+'),\n",
    "            'term': term.replace(' ', '+'),\n",
    "            'offset': offset\n",
    "        }\n",
    "        \n",
    "        response = requests.get(url, headers=headers, params=params)\n",
    "        if response.status_code == 200:\n",
    "            data += response.json()['businesses']\n",
    "        elif response.status_code == 400:\n",
    "            print('400 Bad Request')\n",
    "            break\n",
    "        return data"
   ]
  },
  {
   "cell_type": "code",
   "execution_count": 10,
   "metadata": {},
   "outputs": [],
   "source": [
    "malls = get_business('manila', 'mall', api_key)"
   ]
  },
  {
   "cell_type": "code",
   "execution_count": 11,
   "metadata": {},
   "outputs": [
    {
     "data": {
      "text/plain": [
       "50"
      ]
     },
     "execution_count": 11,
     "metadata": {},
     "output_type": "execute_result"
    }
   ],
   "source": [
    "len(malls)"
   ]
  },
  {
   "cell_type": "code",
   "execution_count": 9,
   "metadata": {},
   "outputs": [
    {
     "data": {
      "text/plain": [
       "{'id': 'BfQkXm0vItVDcnWiSjvgLA',\n",
       " 'alias': 'ayala-center-makati-city',\n",
       " 'name': 'Ayala Center',\n",
       " 'image_url': 'https://s3-media1.fl.yelpcdn.com/bphoto/In83fr1GPLBfWzCdn0BPug/o.jpg',\n",
       " 'is_closed': False,\n",
       " 'url': 'https://www.yelp.com/biz/ayala-center-makati-city?adjust_creative=BbGzEicDanF7mS0Za-aJFg&utm_campaign=yelp_api_v3&utm_medium=api_v3_business_search&utm_source=BbGzEicDanF7mS0Za-aJFg',\n",
       " 'review_count': 2,\n",
       " 'categories': [{'alias': 'shoppingcenters', 'title': 'Shopping Centers'}],\n",
       " 'rating': 5.0,\n",
       " 'coordinates': {'latitude': 14.5583514452294, 'longitude': 121.017939189102},\n",
       " 'transactions': [],\n",
       " 'location': {'address1': 'Ayala Avenue',\n",
       "  'address2': 'Makati Avenue and EDSA',\n",
       "  'address3': None,\n",
       "  'city': 'Makati City',\n",
       "  'zip_code': '1200',\n",
       "  'country': 'PH',\n",
       "  'state': 'NCR',\n",
       "  'display_address': ['Ayala Avenue',\n",
       "   'Makati Avenue and EDSA',\n",
       "   'Makati City, 1200 Metro Manila',\n",
       "   'Philippines']},\n",
       " 'phone': '+63327527272',\n",
       " 'display_phone': '+63 32 752 7272',\n",
       " 'distance': 4163.239631137524}"
      ]
     },
     "execution_count": 9,
     "metadata": {},
     "output_type": "execute_result"
    }
   ],
   "source": [
    "malls[10]"
   ]
  },
  {
   "cell_type": "code",
   "execution_count": null,
   "metadata": {},
   "outputs": [],
   "source": []
  }
 ],
 "metadata": {
  "kernelspec": {
   "display_name": "Python 3",
   "language": "python",
   "name": "python3"
  },
  "language_info": {
   "codemirror_mode": {
    "name": "ipython",
    "version": 3
   },
   "file_extension": ".py",
   "mimetype": "text/x-python",
   "name": "python",
   "nbconvert_exporter": "python",
   "pygments_lexer": "ipython3",
   "version": "3.8.5"
  }
 },
 "nbformat": 4,
 "nbformat_minor": 4
}
