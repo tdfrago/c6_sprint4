{
 "cells": [
  {
   "cell_type": "code",
   "execution_count": 1,
   "metadata": {},
   "outputs": [
    {
     "name": "stdout",
     "output_type": "stream",
     "text": [
      "Collecting selenium\n",
      "  Downloading selenium-3.141.0-py2.py3-none-any.whl (904 kB)\n",
      "Requirement already satisfied: urllib3 in c:\\users\\admin\\anaconda3\\lib\\site-packages (from selenium) (1.25.11)\n",
      "Installing collected packages: selenium\n",
      "Successfully installed selenium-3.141.0\n"
     ]
    }
   ],
   "source": [
    "!pip install selenium"
   ]
  },
  {
   "cell_type": "code",
   "execution_count": 9,
   "metadata": {},
   "outputs": [],
   "source": [
    "from selenium import webdriver\n",
    "from selenium.webdriver.common.keys import Keys\n",
    "\n",
    "import time\n",
    "\n",
    "PATH = r'C:\\Users\\Admin\\Desktop\\Sprint4\\chromedriver_win32\\chromedriver.exe'\n",
    "driver = webdriver.Chrome(PATH)\n",
    "\n",
    "driver.get('https://www.imdb.com/')\n",
    "search = driver.find_element_by_id('suggestion-search')\n",
    "search.send_keys('aliens')\n",
    "search.send_keys(Keys.RETURN)\n",
    "\n",
    "time.sleep(5)\n",
    "x = driver.page_source\n",
    "\n",
    "driver.quit()"
   ]
  },
  {
   "cell_type": "code",
   "execution_count": 10,
   "metadata": {},
   "outputs": [],
   "source": [
    "from bs4 import BeautifulSoup\n",
    "\n",
    "soup = BeautifulSoup(x, 'lxml')"
   ]
  },
  {
   "cell_type": "code",
   "execution_count": 11,
   "metadata": {},
   "outputs": [],
   "source": [
    "contents = soup.find(\"table\", class_=\"findList\")"
   ]
  },
  {
   "cell_type": "code",
   "execution_count": 12,
   "metadata": {
    "scrolled": true
   },
   "outputs": [
    {
     "data": {
      "text/plain": [
       "<table class=\"findList\">\n",
       "<tbody><tr class=\"findResult odd\"> <td class=\"primary_photo\"> <a href=\"/title/tt0090605/?ref_=fn_al_tt_1\"><img src=\"https://m.media-amazon.com/images/M/MV5BZGU2OGY5ZTYtMWNhYy00NjZiLWI0NjUtZmNhY2JhNDRmODU3XkEyXkFqcGdeQXVyNzkwMjQ5NzM@._V1_UX32_CR0,0,32,44_AL_.jpg\"/></a> </td> <td class=\"result_text\"> <a href=\"/title/tt0090605/?ref_=fn_al_tt_1\">Aliens</a> (1986) </td> </tr><tr class=\"findResult even\"> <td class=\"primary_photo\"> <a href=\"/title/tt5458832/?ref_=fn_al_tt_2\"><img src=\"https://m.media-amazon.com/images/M/MV5BMjIzMTgyMjcyNl5BMl5BanBnXkFtZTgwNzQ2OTMzODE@._V1_UX32_CR0,0,32,44_AL_.jpg\"/></a> </td> <td class=\"result_text\"> <a href=\"/title/tt5458832/?ref_=fn_al_tt_2\">The Aliens</a> (2016) (TV Mini-Series) </td> </tr></tbody></table>"
      ]
     },
     "execution_count": 12,
     "metadata": {},
     "output_type": "execute_result"
    }
   ],
   "source": [
    "contents"
   ]
  },
  {
   "cell_type": "code",
   "execution_count": 13,
   "metadata": {},
   "outputs": [],
   "source": [
    "y=contents.find_all('a')"
   ]
  },
  {
   "cell_type": "code",
   "execution_count": 14,
   "metadata": {},
   "outputs": [
    {
     "data": {
      "text/plain": [
       "[<a href=\"/title/tt0090605/?ref_=fn_al_tt_1\"><img src=\"https://m.media-amazon.com/images/M/MV5BZGU2OGY5ZTYtMWNhYy00NjZiLWI0NjUtZmNhY2JhNDRmODU3XkEyXkFqcGdeQXVyNzkwMjQ5NzM@._V1_UX32_CR0,0,32,44_AL_.jpg\"/></a>,\n",
       " <a href=\"/title/tt0090605/?ref_=fn_al_tt_1\">Aliens</a>,\n",
       " <a href=\"/title/tt5458832/?ref_=fn_al_tt_2\"><img src=\"https://m.media-amazon.com/images/M/MV5BMjIzMTgyMjcyNl5BMl5BanBnXkFtZTgwNzQ2OTMzODE@._V1_UX32_CR0,0,32,44_AL_.jpg\"/></a>,\n",
       " <a href=\"/title/tt5458832/?ref_=fn_al_tt_2\">The Aliens</a>]"
      ]
     },
     "execution_count": 14,
     "metadata": {},
     "output_type": "execute_result"
    }
   ],
   "source": [
    "y"
   ]
  },
  {
   "cell_type": "code",
   "execution_count": 15,
   "metadata": {},
   "outputs": [],
   "source": [
    "z =[]\n",
    "for i in y:\n",
    "    z.append(i.get_text())"
   ]
  },
  {
   "cell_type": "code",
   "execution_count": 19,
   "metadata": {},
   "outputs": [],
   "source": [
    "w = list(filter(None, z))"
   ]
  },
  {
   "cell_type": "code",
   "execution_count": 20,
   "metadata": {},
   "outputs": [
    {
     "data": {
      "text/plain": [
       "['Aliens', 'The Aliens']"
      ]
     },
     "execution_count": 20,
     "metadata": {},
     "output_type": "execute_result"
    }
   ],
   "source": [
    "w"
   ]
  },
  {
   "cell_type": "code",
   "execution_count": null,
   "metadata": {},
   "outputs": [],
   "source": [
    "from selenium import webdriver\n",
    "from selenium.webdriver.common.keys import Keys\n",
    "\n",
    "import time\n",
    "\n",
    "PATH = r'C:\\Users\\Admin\\Desktop\\Sprint4\\chromedriver_win32\\chromedriver.exe'\n",
    "driver = webdriver.Chrome(PATH)\n",
    "\n",
    "driver.get('https://www.google.com/')\n",
    "search = driver.find_element_by_name('q')\n",
    "search.send_keys('Eskwelabs')\n",
    "search.send_keys(Keys.RETURN)\n",
    "\n",
    "soup = BeautifulSoup(x, 'lxml')\n",
    "contents = soup.find_all(\"p\")\n",
    "#time.sleep(15)\n",
    "\n",
    "driver.quit()"
   ]
  },
  {
   "cell_type": "code",
   "execution_count": 36,
   "metadata": {},
   "outputs": [],
   "source": [
    "from selenium import webdriver\n",
    "from selenium.webdriver.common.keys import Keys\n",
    "\n",
    "import time\n",
    "\n",
    "PATH = r'C:\\Users\\Admin\\Desktop\\Sprint4\\chromedriver_win32\\chromedriver.exe'\n",
    "driver = webdriver.Chrome(PATH)\n",
    "\n",
    "driver.get('https://www.google.com/')\n",
    "search = driver.find_element_by_name('q')\n",
    "search.send_keys('Eskwelabs')\n",
    "search.send_keys(Keys.RETURN)\n",
    "\n",
    "driver.find_elements_by_xpath(\"//a[@href='https://www.eskwelabs.com/']\")[0].click()\n",
    "time.sleep(1)\n",
    "x = driver.page_source\n",
    "\n",
    "\n",
    "driver.quit()"
   ]
  },
  {
   "cell_type": "code",
   "execution_count": 37,
   "metadata": {},
   "outputs": [],
   "source": [
    "from bs4 import BeautifulSoup\n",
    "soup = BeautifulSoup(x, 'lxml')\n",
    "contents = soup.find_all('blockquote', class_=\"relative flex-grow p-8 w-full text-base tracking-wide leading-6\")"
   ]
  },
  {
   "cell_type": "code",
   "execution_count": 38,
   "metadata": {},
   "outputs": [
    {
     "data": {
      "text/plain": [
       "'Through Eskwelabs, I developed a data-driven mindset and a greater passion for learning.'"
      ]
     },
     "execution_count": 38,
     "metadata": {},
     "output_type": "execute_result"
    }
   ],
   "source": [
    "contents[1].find_all('p')[0].get_text()"
   ]
  },
  {
   "cell_type": "code",
   "execution_count": 34,
   "metadata": {},
   "outputs": [
    {
     "data": {
      "text/plain": [
       "'Through Eskwelabs, I developed a data-driven mindset and a greater passion for learning.'"
      ]
     },
     "execution_count": 34,
     "metadata": {},
     "output_type": "execute_result"
    }
   ],
   "source": [
    "contents[1].p.get_text()"
   ]
  },
  {
   "cell_type": "code",
   "execution_count": 33,
   "metadata": {
    "scrolled": true
   },
   "outputs": [
    {
     "name": "stdout",
     "output_type": "stream",
     "text": [
      "It was amazing to have a place to study surrounded by people who are as passionate about data as I am.\n",
      "Through Eskwelabs, I developed a data-driven mindset and a greater passion for learning.\n",
      "I feel like one week in Eskwelabs is like a semester in a college; you learn so much more here.\n"
     ]
    }
   ],
   "source": [
    "for i in contents:\n",
    "    print(i.p.get_text())"
   ]
  },
  {
   "cell_type": "code",
   "execution_count": 16,
   "metadata": {},
   "outputs": [],
   "source": [
    "from selenium import webdriver\n",
    "from selenium.webdriver.common.keys import Keys\n",
    "\n",
    "import time\n",
    "\n",
    "PATH = r'C:\\Users\\Admin\\Desktop\\Sprint4\\chromedriver_win32\\chromedriver.exe'\n",
    "driver = webdriver.Chrome(PATH)\n",
    "\n",
    "driver.get('https://www.google.com/')\n",
    "search = driver.find_element_by_name('q')\n",
    "search.send_keys('Tyron Frago')\n",
    "search.send_keys(Keys.RETURN)\n",
    "\n",
    "time.sleep(15)\n",
    "\n",
    "driver.quit()"
   ]
  },
  {
   "cell_type": "code",
   "execution_count": null,
   "metadata": {},
   "outputs": [],
   "source": []
  }
 ],
 "metadata": {
  "kernelspec": {
   "display_name": "Python 3",
   "language": "python",
   "name": "python3"
  },
  "language_info": {
   "codemirror_mode": {
    "name": "ipython",
    "version": 3
   },
   "file_extension": ".py",
   "mimetype": "text/x-python",
   "name": "python",
   "nbconvert_exporter": "python",
   "pygments_lexer": "ipython3",
   "version": "3.8.5"
  }
 },
 "nbformat": 4,
 "nbformat_minor": 4
}
